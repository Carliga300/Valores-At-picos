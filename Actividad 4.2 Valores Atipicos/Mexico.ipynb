{
 "cells": [
  {
   "cell_type": "code",
   "execution_count": 24,
   "metadata": {},
   "outputs": [],
   "source": [
    "import pandas as pd\n",
    "import numpy as np\n",
    "import matplotlib.pyplot as plt"
   ]
  },
  {
   "cell_type": "code",
   "execution_count": 25,
   "metadata": {},
   "outputs": [
    {
     "data": {
      "text/html": [
       "<div>\n",
       "<style scoped>\n",
       "    .dataframe tbody tr th:only-of-type {\n",
       "        vertical-align: middle;\n",
       "    }\n",
       "\n",
       "    .dataframe tbody tr th {\n",
       "        vertical-align: top;\n",
       "    }\n",
       "\n",
       "    .dataframe thead th {\n",
       "        text-align: right;\n",
       "    }\n",
       "</style>\n",
       "<table border=\"1\" class=\"dataframe\">\n",
       "  <thead>\n",
       "    <tr style=\"text-align: right;\">\n",
       "      <th></th>\n",
       "      <th>id</th>\n",
       "      <th>listing_url</th>\n",
       "      <th>scrape_id</th>\n",
       "      <th>last_scraped</th>\n",
       "      <th>source</th>\n",
       "      <th>name</th>\n",
       "      <th>description</th>\n",
       "      <th>neighborhood_overview</th>\n",
       "      <th>picture_url</th>\n",
       "      <th>host_id</th>\n",
       "      <th>...</th>\n",
       "      <th>review_scores_communication</th>\n",
       "      <th>review_scores_location</th>\n",
       "      <th>review_scores_value</th>\n",
       "      <th>license</th>\n",
       "      <th>instant_bookable</th>\n",
       "      <th>calculated_host_listings_count</th>\n",
       "      <th>calculated_host_listings_count_entire_homes</th>\n",
       "      <th>calculated_host_listings_count_private_rooms</th>\n",
       "      <th>calculated_host_listings_count_shared_rooms</th>\n",
       "      <th>reviews_per_month</th>\n",
       "    </tr>\n",
       "  </thead>\n",
       "  <tbody>\n",
       "    <tr>\n",
       "      <th>0</th>\n",
       "      <td>35797</td>\n",
       "      <td>https://www.airbnb.com/rooms/35797</td>\n",
       "      <td>20240925021012</td>\n",
       "      <td>2024-09-25</td>\n",
       "      <td>city scrape</td>\n",
       "      <td>Villa Dante</td>\n",
       "      <td>Dentro de Villa un estudio de arte con futon, ...</td>\n",
       "      <td>Santa Fe Mall, Interloma Park and the Lion Des...</td>\n",
       "      <td>https://a0.muscache.com/pictures/f395ab78-1185...</td>\n",
       "      <td>153786</td>\n",
       "      <td>...</td>\n",
       "      <td>NaN</td>\n",
       "      <td>NaN</td>\n",
       "      <td>NaN</td>\n",
       "      <td>NaN</td>\n",
       "      <td>f</td>\n",
       "      <td>1</td>\n",
       "      <td>1</td>\n",
       "      <td>0</td>\n",
       "      <td>0</td>\n",
       "      <td>NaN</td>\n",
       "    </tr>\n",
       "    <tr>\n",
       "      <th>1</th>\n",
       "      <td>44616</td>\n",
       "      <td>https://www.airbnb.com/rooms/44616</td>\n",
       "      <td>20240925021012</td>\n",
       "      <td>2024-09-26</td>\n",
       "      <td>previous scrape</td>\n",
       "      <td>Condesa Haus</td>\n",
       "      <td>A new concept of hosting in mexico through a b...</td>\n",
       "      <td>NaN</td>\n",
       "      <td>https://a0.muscache.com/pictures/251410/ec75fe...</td>\n",
       "      <td>196253</td>\n",
       "      <td>...</td>\n",
       "      <td>4.78</td>\n",
       "      <td>4.98</td>\n",
       "      <td>4.48</td>\n",
       "      <td>NaN</td>\n",
       "      <td>f</td>\n",
       "      <td>8</td>\n",
       "      <td>4</td>\n",
       "      <td>1</td>\n",
       "      <td>0</td>\n",
       "      <td>0.41</td>\n",
       "    </tr>\n",
       "  </tbody>\n",
       "</table>\n",
       "<p>2 rows × 75 columns</p>\n",
       "</div>"
      ],
      "text/plain": [
       "      id                         listing_url       scrape_id last_scraped  \\\n",
       "0  35797  https://www.airbnb.com/rooms/35797  20240925021012   2024-09-25   \n",
       "1  44616  https://www.airbnb.com/rooms/44616  20240925021012   2024-09-26   \n",
       "\n",
       "            source          name  \\\n",
       "0      city scrape   Villa Dante   \n",
       "1  previous scrape  Condesa Haus   \n",
       "\n",
       "                                         description  \\\n",
       "0  Dentro de Villa un estudio de arte con futon, ...   \n",
       "1  A new concept of hosting in mexico through a b...   \n",
       "\n",
       "                               neighborhood_overview  \\\n",
       "0  Santa Fe Mall, Interloma Park and the Lion Des...   \n",
       "1                                                NaN   \n",
       "\n",
       "                                         picture_url  host_id  ...  \\\n",
       "0  https://a0.muscache.com/pictures/f395ab78-1185...   153786  ...   \n",
       "1  https://a0.muscache.com/pictures/251410/ec75fe...   196253  ...   \n",
       "\n",
       "  review_scores_communication review_scores_location review_scores_value  \\\n",
       "0                         NaN                    NaN                 NaN   \n",
       "1                        4.78                   4.98                4.48   \n",
       "\n",
       "  license instant_bookable calculated_host_listings_count  \\\n",
       "0     NaN                f                              1   \n",
       "1     NaN                f                              8   \n",
       "\n",
       "  calculated_host_listings_count_entire_homes  \\\n",
       "0                                           1   \n",
       "1                                           4   \n",
       "\n",
       "  calculated_host_listings_count_private_rooms  \\\n",
       "0                                            0   \n",
       "1                                            1   \n",
       "\n",
       "  calculated_host_listings_count_shared_rooms reviews_per_month  \n",
       "0                                           0               NaN  \n",
       "1                                           0              0.41  \n",
       "\n",
       "[2 rows x 75 columns]"
      ]
     },
     "execution_count": 25,
     "metadata": {},
     "output_type": "execute_result"
    }
   ],
   "source": [
    "data = pd.read_csv('listings.csv')\n",
    "data.head(2)"
   ]
  },
  {
   "cell_type": "code",
   "execution_count": 26,
   "metadata": {},
   "outputs": [],
   "source": [
    "#Calculamos valores nulos y mostramos todas la filas\n",
    "valores_nulos= data.isnull().sum() \n",
    "valores_nulos\n",
    "\n",
    "#Se crea un archivo csv para ver todas las columnas que tengan valores nulos\n",
    "valores_nulos.to_csv('Valores_Nulos_Filas.csv', index=True)"
   ]
  },
  {
   "cell_type": "code",
   "execution_count": 27,
   "metadata": {},
   "outputs": [
    {
     "data": {
      "text/plain": [
       "np.int64(190673)"
      ]
     },
     "execution_count": 27,
     "metadata": {},
     "output_type": "execute_result"
    }
   ],
   "source": [
    "#Identificar valores nulos por columna\n",
    "valores_nulos=data.isnull().sum().sum()\n",
    "valores_nulos"
   ]
  },
  {
   "cell_type": "code",
   "execution_count": 28,
   "metadata": {},
   "outputs": [
    {
     "data": {
      "text/html": [
       "<div>\n",
       "<style scoped>\n",
       "    .dataframe tbody tr th:only-of-type {\n",
       "        vertical-align: middle;\n",
       "    }\n",
       "\n",
       "    .dataframe tbody tr th {\n",
       "        vertical-align: top;\n",
       "    }\n",
       "\n",
       "    .dataframe thead th {\n",
       "        text-align: right;\n",
       "    }\n",
       "</style>\n",
       "<table border=\"1\" class=\"dataframe\">\n",
       "  <thead>\n",
       "    <tr style=\"text-align: right;\">\n",
       "      <th></th>\n",
       "      <th>id</th>\n",
       "      <th>listing_url</th>\n",
       "      <th>scrape_id</th>\n",
       "      <th>last_scraped</th>\n",
       "      <th>source</th>\n",
       "      <th>name</th>\n",
       "      <th>description</th>\n",
       "      <th>neighborhood_overview</th>\n",
       "      <th>picture_url</th>\n",
       "      <th>host_id</th>\n",
       "      <th>...</th>\n",
       "      <th>review_scores_communication</th>\n",
       "      <th>review_scores_location</th>\n",
       "      <th>review_scores_value</th>\n",
       "      <th>license</th>\n",
       "      <th>instant_bookable</th>\n",
       "      <th>calculated_host_listings_count</th>\n",
       "      <th>calculated_host_listings_count_entire_homes</th>\n",
       "      <th>calculated_host_listings_count_private_rooms</th>\n",
       "      <th>calculated_host_listings_count_shared_rooms</th>\n",
       "      <th>reviews_per_month</th>\n",
       "    </tr>\n",
       "  </thead>\n",
       "  <tbody>\n",
       "    <tr>\n",
       "      <th>0</th>\n",
       "      <td>35797</td>\n",
       "      <td>https://www.airbnb.com/rooms/35797</td>\n",
       "      <td>20240925021012</td>\n",
       "      <td>2024-09-25</td>\n",
       "      <td>city scrape</td>\n",
       "      <td>Villa Dante</td>\n",
       "      <td>Dentro de Villa un estudio de arte con futon, ...</td>\n",
       "      <td>Santa Fe Mall, Interloma Park and the Lion Des...</td>\n",
       "      <td>https://a0.muscache.com/pictures/f395ab78-1185...</td>\n",
       "      <td>153786</td>\n",
       "      <td>...</td>\n",
       "      <td>NaN</td>\n",
       "      <td>NaN</td>\n",
       "      <td>NaN</td>\n",
       "      <td>NaN</td>\n",
       "      <td>f</td>\n",
       "      <td>1</td>\n",
       "      <td>1</td>\n",
       "      <td>0</td>\n",
       "      <td>0</td>\n",
       "      <td>NaN</td>\n",
       "    </tr>\n",
       "    <tr>\n",
       "      <th>1</th>\n",
       "      <td>44616</td>\n",
       "      <td>https://www.airbnb.com/rooms/44616</td>\n",
       "      <td>20240925021012</td>\n",
       "      <td>2024-09-26</td>\n",
       "      <td>previous scrape</td>\n",
       "      <td>Condesa Haus</td>\n",
       "      <td>A new concept of hosting in mexico through a b...</td>\n",
       "      <td>NaN</td>\n",
       "      <td>https://a0.muscache.com/pictures/251410/ec75fe...</td>\n",
       "      <td>196253</td>\n",
       "      <td>...</td>\n",
       "      <td>4.78</td>\n",
       "      <td>4.98</td>\n",
       "      <td>4.48</td>\n",
       "      <td>NaN</td>\n",
       "      <td>f</td>\n",
       "      <td>8</td>\n",
       "      <td>4</td>\n",
       "      <td>1</td>\n",
       "      <td>0</td>\n",
       "      <td>0.41</td>\n",
       "    </tr>\n",
       "  </tbody>\n",
       "</table>\n",
       "<p>2 rows × 75 columns</p>\n",
       "</div>"
      ],
      "text/plain": [
       "      id                         listing_url       scrape_id last_scraped  \\\n",
       "0  35797  https://www.airbnb.com/rooms/35797  20240925021012   2024-09-25   \n",
       "1  44616  https://www.airbnb.com/rooms/44616  20240925021012   2024-09-26   \n",
       "\n",
       "            source          name  \\\n",
       "0      city scrape   Villa Dante   \n",
       "1  previous scrape  Condesa Haus   \n",
       "\n",
       "                                         description  \\\n",
       "0  Dentro de Villa un estudio de arte con futon, ...   \n",
       "1  A new concept of hosting in mexico through a b...   \n",
       "\n",
       "                               neighborhood_overview  \\\n",
       "0  Santa Fe Mall, Interloma Park and the Lion Des...   \n",
       "1                                                NaN   \n",
       "\n",
       "                                         picture_url  host_id  ...  \\\n",
       "0  https://a0.muscache.com/pictures/f395ab78-1185...   153786  ...   \n",
       "1  https://a0.muscache.com/pictures/251410/ec75fe...   196253  ...   \n",
       "\n",
       "  review_scores_communication review_scores_location review_scores_value  \\\n",
       "0                         NaN                    NaN                 NaN   \n",
       "1                        4.78                   4.98                4.48   \n",
       "\n",
       "  license instant_bookable calculated_host_listings_count  \\\n",
       "0     NaN                f                              1   \n",
       "1     NaN                f                              8   \n",
       "\n",
       "  calculated_host_listings_count_entire_homes  \\\n",
       "0                                           1   \n",
       "1                                           4   \n",
       "\n",
       "  calculated_host_listings_count_private_rooms  \\\n",
       "0                                            0   \n",
       "1                                            1   \n",
       "\n",
       "  calculated_host_listings_count_shared_rooms reviews_per_month  \n",
       "0                                           0               NaN  \n",
       "1                                           0              0.41  \n",
       "\n",
       "[2 rows x 75 columns]"
      ]
     },
     "execution_count": 28,
     "metadata": {},
     "output_type": "execute_result"
    }
   ],
   "source": [
    "data2=data.copy()\n",
    "data2.head(2)"
   ]
  },
  {
   "cell_type": "code",
   "execution_count": 29,
   "metadata": {},
   "outputs": [],
   "source": [
    "#Eliminamos valores nulos de description\n",
    "#Sustituir valores nulos con Descripcion para description\n",
    "data2[\"description\"]=data2[\"description\"].fillna(\"Descripcion\")"
   ]
  },
  {
   "cell_type": "code",
   "execution_count": 30,
   "metadata": {},
   "outputs": [
    {
     "data": {
      "text/plain": [
       "np.int64(190673)"
      ]
     },
     "execution_count": 30,
     "metadata": {},
     "output_type": "execute_result"
    }
   ],
   "source": [
    "#Identificar valores nulos por columna\n",
    "valores_nulos=data2.isnull().sum().sum()\n",
    "valores_nulos"
   ]
  },
  {
   "cell_type": "code",
   "execution_count": 31,
   "metadata": {},
   "outputs": [],
   "source": [
    "#Eliminamos valores nulos de neighborhood_overview\n",
    "#Sustituir valores nulos con descripción general del vecindario para neighborhood_overview\n",
    "data2[\"neighborhood_overview\"]=data2[\"neighborhood_overview\"].fillna(\"descripción general del vecindario\")"
   ]
  },
  {
   "cell_type": "code",
   "execution_count": 32,
   "metadata": {},
   "outputs": [
    {
     "data": {
      "text/plain": [
       "np.int64(190673)"
      ]
     },
     "execution_count": 32,
     "metadata": {},
     "output_type": "execute_result"
    }
   ],
   "source": [
    "#Identificar valores nulos por columna\n",
    "valores_nulos=data2.isnull().sum().sum()\n",
    "valores_nulos"
   ]
  },
  {
   "cell_type": "code",
   "execution_count": 33,
   "metadata": {},
   "outputs": [
    {
     "name": "stderr",
     "output_type": "stream",
     "text": [
      "C:\\Users\\carli\\AppData\\Local\\Temp\\ipykernel_13960\\1658340090.py:2: FutureWarning: Series.fillna with 'method' is deprecated and will raise in a future version. Use obj.ffill() or obj.bfill() instead.\n",
      "  data2[\"host_location\"]=data2[\"host_location\"].fillna(method=\"ffill\")\n"
     ]
    }
   ],
   "source": [
    "#Eliminamos valores nulos de host_location\n",
    "data2[\"host_location\"]=data2[\"host_location\"].fillna(method=\"ffill\")"
   ]
  },
  {
   "cell_type": "code",
   "execution_count": 34,
   "metadata": {},
   "outputs": [
    {
     "data": {
      "text/plain": [
       "np.int64(190673)"
      ]
     },
     "execution_count": 34,
     "metadata": {},
     "output_type": "execute_result"
    }
   ],
   "source": [
    "#Identificar valores nulos por columna\n",
    "valores_nulos=data2.isnull().sum().sum()\n",
    "valores_nulos"
   ]
  },
  {
   "cell_type": "code",
   "execution_count": 35,
   "metadata": {},
   "outputs": [],
   "source": [
    "#Eliminamos valores nulos de host_about\n",
    "#Sustituir valores nulos con host_about para host_about\n",
    "data2[\"host_about\"]=data2[\"host_about\"].fillna(\"host_about\")"
   ]
  },
  {
   "cell_type": "code",
   "execution_count": 36,
   "metadata": {},
   "outputs": [
    {
     "data": {
      "text/plain": [
       "np.int64(190673)"
      ]
     },
     "execution_count": 36,
     "metadata": {},
     "output_type": "execute_result"
    }
   ],
   "source": [
    "#Identificar valores nulos por columna\n",
    "valores_nulos=data2.isnull().sum().sum()\n",
    "valores_nulos"
   ]
  },
  {
   "cell_type": "code",
   "execution_count": 37,
   "metadata": {},
   "outputs": [
    {
     "name": "stderr",
     "output_type": "stream",
     "text": [
      "C:\\Users\\carli\\AppData\\Local\\Temp\\ipykernel_13960\\720507683.py:2: FutureWarning: Series.fillna with 'method' is deprecated and will raise in a future version. Use obj.ffill() or obj.bfill() instead.\n",
      "  data2[\"host_response_time\"]=data2[\"host_response_time\"].fillna(method=\"ffill\")\n"
     ]
    }
   ],
   "source": [
    "#Eliminamos valores nulos de host_response_time\n",
    "data2[\"host_response_time\"]=data2[\"host_response_time\"].fillna(method=\"ffill\")"
   ]
  },
  {
   "cell_type": "code",
   "execution_count": 38,
   "metadata": {},
   "outputs": [
    {
     "data": {
      "text/plain": [
       "np.int64(190673)"
      ]
     },
     "execution_count": 38,
     "metadata": {},
     "output_type": "execute_result"
    }
   ],
   "source": [
    "#Identificar valores nulos por columna\n",
    "valores_nulos=data2.isnull().sum().sum()\n",
    "valores_nulos"
   ]
  },
  {
   "cell_type": "code",
   "execution_count": 39,
   "metadata": {},
   "outputs": [
    {
     "name": "stderr",
     "output_type": "stream",
     "text": [
      "C:\\Users\\carli\\AppData\\Local\\Temp\\ipykernel_13960\\3133279827.py:2: FutureWarning: Series.fillna with 'method' is deprecated and will raise in a future version. Use obj.ffill() or obj.bfill() instead.\n",
      "  data2[\"host_response_rate\"]=data2[\"host_response_rate\"].fillna(method=\"bfill\")\n"
     ]
    }
   ],
   "source": [
    "#Eliminamos valores nulos de host_response_rate\n",
    "data2[\"host_response_rate\"]=data2[\"host_response_rate\"].fillna(method=\"bfill\")"
   ]
  },
  {
   "cell_type": "code",
   "execution_count": 40,
   "metadata": {},
   "outputs": [
    {
     "data": {
      "text/plain": [
       "np.int64(190673)"
      ]
     },
     "execution_count": 40,
     "metadata": {},
     "output_type": "execute_result"
    }
   ],
   "source": [
    "#Identificar valores nulos por columna\n",
    "valores_nulos=data2.isnull().sum().sum()\n",
    "valores_nulos"
   ]
  },
  {
   "cell_type": "code",
   "execution_count": 41,
   "metadata": {},
   "outputs": [
    {
     "name": "stderr",
     "output_type": "stream",
     "text": [
      "C:\\Users\\carli\\AppData\\Local\\Temp\\ipykernel_13960\\1400740286.py:2: FutureWarning: Series.fillna with 'method' is deprecated and will raise in a future version. Use obj.ffill() or obj.bfill() instead.\n",
      "  data2[\"host_acceptance_rate\"]=data2[\"host_acceptance_rate\"].fillna(method=\"bfill\")\n"
     ]
    }
   ],
   "source": [
    "#Eliminamos valores nulos de host_acceptance_rate\n",
    "data2[\"host_acceptance_rate\"]=data2[\"host_acceptance_rate\"].fillna(method=\"bfill\")"
   ]
  },
  {
   "cell_type": "code",
   "execution_count": 42,
   "metadata": {},
   "outputs": [
    {
     "data": {
      "text/plain": [
       "np.int64(190673)"
      ]
     },
     "execution_count": 42,
     "metadata": {},
     "output_type": "execute_result"
    }
   ],
   "source": [
    "#Identificar valores nulos por columna\n",
    "valores_nulos=data2.isnull().sum().sum()\n",
    "valores_nulos"
   ]
  },
  {
   "cell_type": "code",
   "execution_count": 43,
   "metadata": {},
   "outputs": [],
   "source": [
    "#Eliminamos valores nulos de host_is_superhost\n",
    "#Sustituir valores nulos con t para host_is_superhost\n",
    "data2[\"host_is_superhost\"]=data2[\"host_is_superhost\"].fillna(\"t\")"
   ]
  },
  {
   "cell_type": "code",
   "execution_count": 44,
   "metadata": {},
   "outputs": [
    {
     "data": {
      "text/plain": [
       "np.int64(190673)"
      ]
     },
     "execution_count": 44,
     "metadata": {},
     "output_type": "execute_result"
    }
   ],
   "source": [
    "#Identificar valores nulos por columna\n",
    "valores_nulos=data2.isnull().sum().sum()\n",
    "valores_nulos"
   ]
  },
  {
   "cell_type": "code",
   "execution_count": 45,
   "metadata": {},
   "outputs": [],
   "source": [
    "#Eliminamos valores nulos de host_neighbourhood\n",
    "#Sustituir valores nulos con sin host_neighbourhood para host_neighbourhood\n",
    "data2[\"host_neighbourhood\"]=data2[\"host_neighbourhood\"].fillna(\"host_neighbourhood\")"
   ]
  },
  {
   "cell_type": "code",
   "execution_count": 46,
   "metadata": {},
   "outputs": [
    {
     "data": {
      "text/plain": [
       "np.int64(190673)"
      ]
     },
     "execution_count": 46,
     "metadata": {},
     "output_type": "execute_result"
    }
   ],
   "source": [
    "#Identificar valores nulos por columna\n",
    "valores_nulos=data2.isnull().sum().sum()\n",
    "valores_nulos"
   ]
  },
  {
   "cell_type": "code",
   "execution_count": 47,
   "metadata": {},
   "outputs": [],
   "source": [
    "#Eliminamos valores nulos de neighbourhood\n",
    "#Sustituir valores nulos con Mexico City, D.f., Mexico para neighbourhood\n",
    "data2[\"neighbourhood\"]=data2[\"neighbourhood\"].fillna(\"Mexico City, D.f., Mexico\")"
   ]
  },
  {
   "cell_type": "code",
   "execution_count": 48,
   "metadata": {},
   "outputs": [
    {
     "data": {
      "text/plain": [
       "np.int64(190673)"
      ]
     },
     "execution_count": 48,
     "metadata": {},
     "output_type": "execute_result"
    }
   ],
   "source": [
    "#Identificar valores nulos por columna\n",
    "valores_nulos=data2.isnull().sum().sum()\n",
    "valores_nulos"
   ]
  },
  {
   "cell_type": "code",
   "execution_count": 49,
   "metadata": {},
   "outputs": [],
   "source": [
    "#Eliminamos valores nulos de neighbourhood_group_cleansed\n",
    "#Sustituir valores nulos con neighbourhood_group_cleansed para neighbourhood_group_cleansed\n",
    "data2[\"neighbourhood_group_cleansed\"]=data2[\"neighbourhood_group_cleansed\"].fillna(\"neighbourhood_group_cleansed\")"
   ]
  },
  {
   "cell_type": "code",
   "execution_count": 50,
   "metadata": {},
   "outputs": [
    {
     "data": {
      "text/plain": [
       "np.int64(190673)"
      ]
     },
     "execution_count": 50,
     "metadata": {},
     "output_type": "execute_result"
    }
   ],
   "source": [
    "#Identificar valores nulos por columna\n",
    "valores_nulos=data2.isnull().sum().sum()\n",
    "valores_nulos"
   ]
  },
  {
   "cell_type": "code",
   "execution_count": 51,
   "metadata": {},
   "outputs": [],
   "source": [
    "#Eliminamos valores nulos de  bathrooms\n",
    "#Sustituir valores nulos con media para bathrooms\n",
    "data2[\"bathrooms\"]=data2[\"bathrooms\"].fillna(round(data[\"bathrooms\"].median(),2))"
   ]
  },
  {
   "cell_type": "code",
   "execution_count": 52,
   "metadata": {},
   "outputs": [
    {
     "data": {
      "text/plain": [
       "np.int64(190673)"
      ]
     },
     "execution_count": 52,
     "metadata": {},
     "output_type": "execute_result"
    }
   ],
   "source": [
    "#Identificar valores nulos por columna\n",
    "valores_nulos=data2.isnull().sum().sum()\n",
    "valores_nulos"
   ]
  },
  {
   "cell_type": "code",
   "execution_count": 53,
   "metadata": {},
   "outputs": [
    {
     "name": "stderr",
     "output_type": "stream",
     "text": [
      "C:\\Users\\carli\\AppData\\Local\\Temp\\ipykernel_13960\\3257592229.py:2: FutureWarning: Series.fillna with 'method' is deprecated and will raise in a future version. Use obj.ffill() or obj.bfill() instead.\n",
      "  data2[\"bathrooms_text\"]=data2[\"bathrooms_text\"].fillna(method=\"bfill\")\n"
     ]
    }
   ],
   "source": [
    "#Eliminamos valores nulos de bathrooms_text\n",
    "data2[\"bathrooms_text\"]=data2[\"bathrooms_text\"].fillna(method=\"bfill\")"
   ]
  },
  {
   "cell_type": "code",
   "execution_count": 54,
   "metadata": {},
   "outputs": [
    {
     "data": {
      "text/plain": [
       "np.int64(190673)"
      ]
     },
     "execution_count": 54,
     "metadata": {},
     "output_type": "execute_result"
    }
   ],
   "source": [
    "#Identificar valores nulos por columna\n",
    "valores_nulos=data2.isnull().sum().sum()\n",
    "valores_nulos"
   ]
  },
  {
   "cell_type": "code",
   "execution_count": 55,
   "metadata": {},
   "outputs": [],
   "source": [
    "#Eliminamos valores nulos de  bedrooms\n",
    "#Sustituir valores nulos con media para bedrooms\n",
    "data2[\"bedrooms\"]=data2[\"bedrooms\"].fillna(round(data[\"bedrooms\"].median(),2))"
   ]
  },
  {
   "cell_type": "code",
   "execution_count": 56,
   "metadata": {},
   "outputs": [
    {
     "data": {
      "text/plain": [
       "np.int64(190673)"
      ]
     },
     "execution_count": 56,
     "metadata": {},
     "output_type": "execute_result"
    }
   ],
   "source": [
    "#Identificar valores nulos por columna\n",
    "valores_nulos=data2.isnull().sum().sum()\n",
    "valores_nulos"
   ]
  },
  {
   "cell_type": "code",
   "execution_count": 57,
   "metadata": {},
   "outputs": [],
   "source": [
    "#Eliminamos valores nulos de beds\n",
    "#Sustituir valores nulos con promedio para beds\n",
    "data2[\"beds\"]=data2[\"beds\"].fillna(round(data[\"beds\"].mean(),2))"
   ]
  },
  {
   "cell_type": "code",
   "execution_count": 58,
   "metadata": {},
   "outputs": [],
   "source": [
    "#Eliminamos valores nulos de price\n",
    "#Sustituir valores nulos con promedio para price\n",
    "#Eliminar el signo de pesos y convertir a numérico\n",
    "data2[\"price\"] = data2[\"price\"].replace('[\\$,]', '', regex=True).astype(float)\n",
    "data2[\"price\"] = data2[\"price\"].fillna(round(data2[\"price\"].mean(), 2))"
   ]
  },
  {
   "cell_type": "code",
   "execution_count": 59,
   "metadata": {},
   "outputs": [
    {
     "data": {
      "text/plain": [
       "np.int64(190673)"
      ]
     },
     "execution_count": 59,
     "metadata": {},
     "output_type": "execute_result"
    }
   ],
   "source": [
    "#Identificar valores nulos por columna\n",
    "valores_nulos=data2.isnull().sum().sum()\n",
    "valores_nulos"
   ]
  },
  {
   "cell_type": "code",
   "execution_count": 60,
   "metadata": {},
   "outputs": [],
   "source": [
    "#Eliminamos valores nulos de calendar_updated\n",
    "#Sustituir valores nulos con calendar_updated para calendar_updated\n",
    "data2[\"calendar_updated\"]=data2[\"calendar_updated\"].fillna(\"calendar_updated\")"
   ]
  },
  {
   "cell_type": "code",
   "execution_count": 61,
   "metadata": {},
   "outputs": [
    {
     "data": {
      "text/plain": [
       "np.int64(190673)"
      ]
     },
     "execution_count": 61,
     "metadata": {},
     "output_type": "execute_result"
    }
   ],
   "source": [
    "#Identificar valores nulos por columna\n",
    "valores_nulos=data2.isnull().sum().sum()\n",
    "valores_nulos"
   ]
  },
  {
   "cell_type": "code",
   "execution_count": 62,
   "metadata": {},
   "outputs": [],
   "source": [
    "#Eliminamos valores nulos de has_availability\n",
    "#Sustituir valores nulos con t para has_availability\n",
    "data2[\"has_availability\"]=data2[\"has_availability\"].fillna(\"t\")"
   ]
  },
  {
   "cell_type": "code",
   "execution_count": 63,
   "metadata": {},
   "outputs": [
    {
     "data": {
      "text/plain": [
       "np.int64(190673)"
      ]
     },
     "execution_count": 63,
     "metadata": {},
     "output_type": "execute_result"
    }
   ],
   "source": [
    "#Identificar valores nulos por columna\n",
    "valores_nulos=data2.isnull().sum().sum()\n",
    "valores_nulos"
   ]
  },
  {
   "cell_type": "code",
   "execution_count": 64,
   "metadata": {},
   "outputs": [],
   "source": [
    "#Eliminamos valores nulos de first_review\n",
    "#Sustituir valores nulos con fillna para first_review\n",
    "data2[\"first_review\"]=data2[\"first_review\"].fillna(\"2030-05-19\")"
   ]
  },
  {
   "cell_type": "code",
   "execution_count": 65,
   "metadata": {},
   "outputs": [
    {
     "data": {
      "text/plain": [
       "np.int64(190673)"
      ]
     },
     "execution_count": 65,
     "metadata": {},
     "output_type": "execute_result"
    }
   ],
   "source": [
    "#Identificar valores nulos por columna\n",
    "valores_nulos=data2.isnull().sum().sum()\n",
    "valores_nulos"
   ]
  },
  {
   "cell_type": "code",
   "execution_count": 66,
   "metadata": {},
   "outputs": [],
   "source": [
    "#Eliminamos valores nulos de last_review\n",
    "#Sustituir valores nulos con fillna para last_review\n",
    "data2[\"last_review\"]=data2[\"last_review\"].fillna(\"2028-05-19\")"
   ]
  },
  {
   "cell_type": "code",
   "execution_count": 67,
   "metadata": {},
   "outputs": [
    {
     "data": {
      "text/plain": [
       "np.int64(190673)"
      ]
     },
     "execution_count": 67,
     "metadata": {},
     "output_type": "execute_result"
    }
   ],
   "source": [
    "#Identificar valores nulos por columna\n",
    "valores_nulos=data2.isnull().sum().sum()\n",
    "valores_nulos"
   ]
  },
  {
   "cell_type": "code",
   "execution_count": 68,
   "metadata": {},
   "outputs": [],
   "source": [
    "#Eliminamos valores nulos de review_scores_rating\n",
    "#Sustituir valores nulos con promedio para review_scores_rating\n",
    "data2[\"review_scores_rating\"]=data2[\"review_scores_rating\"].fillna(round(data[\"review_scores_rating\"].mean(),2))"
   ]
  },
  {
   "cell_type": "code",
   "execution_count": 69,
   "metadata": {},
   "outputs": [
    {
     "data": {
      "text/plain": [
       "np.int64(190673)"
      ]
     },
     "execution_count": 69,
     "metadata": {},
     "output_type": "execute_result"
    }
   ],
   "source": [
    "#Identificar valores nulos por columna\n",
    "valores_nulos=data2.isnull().sum().sum()\n",
    "valores_nulos"
   ]
  },
  {
   "cell_type": "code",
   "execution_count": 70,
   "metadata": {},
   "outputs": [],
   "source": [
    "#Eliminamos valores nulos de  review_scores_accuracy\n",
    "#Sustituir valores nulos con media para review_scores_accuracy\n",
    "data2[\"review_scores_accuracy\"]=data2[\"review_scores_accuracy\"].fillna(round(data[\"review_scores_accuracy\"].median(),2))"
   ]
  },
  {
   "cell_type": "code",
   "execution_count": 71,
   "metadata": {},
   "outputs": [
    {
     "data": {
      "text/plain": [
       "np.int64(190673)"
      ]
     },
     "execution_count": 71,
     "metadata": {},
     "output_type": "execute_result"
    }
   ],
   "source": [
    "#Identificar valores nulos por columna\n",
    "valores_nulos=data2.isnull().sum().sum()\n",
    "valores_nulos"
   ]
  },
  {
   "cell_type": "code",
   "execution_count": 72,
   "metadata": {},
   "outputs": [],
   "source": [
    "#Eliminamos valores nulos de review_scores_cleanliness\n",
    "#Sustituir valores nulos con promedio para review_scores_cleanliness\n",
    "data2[\"review_scores_cleanliness\"]=data2[\"review_scores_cleanliness\"].fillna(round(data[\"review_scores_cleanliness\"].mean(),2))"
   ]
  },
  {
   "cell_type": "code",
   "execution_count": 73,
   "metadata": {},
   "outputs": [
    {
     "data": {
      "text/plain": [
       "np.int64(190673)"
      ]
     },
     "execution_count": 73,
     "metadata": {},
     "output_type": "execute_result"
    }
   ],
   "source": [
    "#Identificar valores nulos por columna\n",
    "valores_nulos=data2.isnull().sum().sum()\n",
    "valores_nulos"
   ]
  },
  {
   "cell_type": "code",
   "execution_count": 74,
   "metadata": {},
   "outputs": [],
   "source": [
    "#Eliminamos valores nulos de review_scores_checkin\n",
    "#Sustituir valores nulos con promedio para review_scores_checkin\n",
    "data2[\"review_scores_checkin\"]=data2[\"review_scores_checkin\"].fillna(round(data[\"review_scores_checkin\"].mean(),2))"
   ]
  },
  {
   "cell_type": "code",
   "execution_count": 75,
   "metadata": {},
   "outputs": [
    {
     "data": {
      "text/plain": [
       "np.int64(190673)"
      ]
     },
     "execution_count": 75,
     "metadata": {},
     "output_type": "execute_result"
    }
   ],
   "source": [
    "#Identificar valores nulos por columna\n",
    "valores_nulos=data2.isnull().sum().sum()\n",
    "valores_nulos"
   ]
  },
  {
   "cell_type": "code",
   "execution_count": 76,
   "metadata": {},
   "outputs": [],
   "source": [
    "#Eliminamos valores nulos de review_scores_communication\n",
    "#Sustituir valores nulos con promedio para review_scores_communication\n",
    "data2[\"review_scores_communication\"]=data2[\"review_scores_communication\"].fillna(round(data[\"review_scores_communication\"].mean(),2))"
   ]
  },
  {
   "cell_type": "code",
   "execution_count": 77,
   "metadata": {},
   "outputs": [
    {
     "data": {
      "text/plain": [
       "np.int64(190673)"
      ]
     },
     "execution_count": 77,
     "metadata": {},
     "output_type": "execute_result"
    }
   ],
   "source": [
    "#Identificar valores nulos por columna\n",
    "valores_nulos=data2.isnull().sum().sum()\n",
    "valores_nulos"
   ]
  },
  {
   "cell_type": "code",
   "execution_count": 78,
   "metadata": {},
   "outputs": [],
   "source": [
    "#Eliminamos valores nulos de  review_scores_location\n",
    "#Sustituir valores nulos con media para review_scores_location\n",
    "data2[\"review_scores_location\"]=data2[\"review_scores_location\"].fillna(round(data[\"review_scores_location\"].median(),2))"
   ]
  },
  {
   "cell_type": "code",
   "execution_count": 79,
   "metadata": {},
   "outputs": [
    {
     "data": {
      "text/plain": [
       "np.int64(190673)"
      ]
     },
     "execution_count": 79,
     "metadata": {},
     "output_type": "execute_result"
    }
   ],
   "source": [
    "#Identificar valores nulos por columna\n",
    "valores_nulos=data2.isnull().sum().sum()\n",
    "valores_nulos"
   ]
  },
  {
   "cell_type": "code",
   "execution_count": 80,
   "metadata": {},
   "outputs": [],
   "source": [
    "#Eliminamos valores nulos de review_scores_value\n",
    "#Sustituir valores nulos con promedio para review_scores_value\n",
    "data2[\"review_scores_value\"]=data2[\"review_scores_value\"].fillna(round(data[\"review_scores_value\"].mean(),2))"
   ]
  },
  {
   "cell_type": "code",
   "execution_count": 81,
   "metadata": {},
   "outputs": [
    {
     "data": {
      "text/plain": [
       "np.int64(190673)"
      ]
     },
     "execution_count": 81,
     "metadata": {},
     "output_type": "execute_result"
    }
   ],
   "source": [
    "#Identificar valores nulos por columna\n",
    "valores_nulos=data2.isnull().sum().sum()\n",
    "valores_nulos"
   ]
  },
  {
   "cell_type": "code",
   "execution_count": 82,
   "metadata": {},
   "outputs": [],
   "source": [
    "#Eliminamos valores nulos de license\n",
    "#Sustituir valores nulos con t para license\n",
    "data2[\"license\"]=data2[\"license\"].fillna(\"S/N\")"
   ]
  },
  {
   "cell_type": "code",
   "execution_count": 83,
   "metadata": {},
   "outputs": [
    {
     "data": {
      "text/plain": [
       "np.int64(190673)"
      ]
     },
     "execution_count": 83,
     "metadata": {},
     "output_type": "execute_result"
    }
   ],
   "source": [
    "#Identificar valores nulos por columna\n",
    "valores_nulos=data2.isnull().sum().sum()\n",
    "valores_nulos"
   ]
  },
  {
   "cell_type": "code",
   "execution_count": 84,
   "metadata": {},
   "outputs": [],
   "source": [
    "#Eliminamos valores nulos de reviews_per_month\n",
    "#Sustituir valores nulos con t para reviews_per_month\n",
    "data2[\"reviews_per_month\"]=data2[\"reviews_per_month\"].fillna(round(data[\"reviews_per_month\"].mean(),2))"
   ]
  },
  {
   "cell_type": "code",
   "execution_count": 88,
   "metadata": {},
   "outputs": [
    {
     "data": {
      "text/plain": [
       "np.int64(190673)"
      ]
     },
     "execution_count": 88,
     "metadata": {},
     "output_type": "execute_result"
    }
   ],
   "source": [
    "#Identificar valores nulos por columna\n",
    "valores_nulos=data2.isnull().sum().sum()\n",
    "valores_nulos"
   ]
  },
  {
   "cell_type": "code",
   "execution_count": 86,
   "metadata": {},
   "outputs": [],
   "source": [
    "valores_nulos= data2.isnull().sum() \n",
    "valores_nulos\n",
    "\n",
    "#Se crea un archivo csv para ver todas las columnas que tengan valores nulos\n",
    "valores_nulos.to_csv('Valores_Nulos_Final.csv', index=True)"
   ]
  },
  {
   "cell_type": "code",
   "execution_count": 87,
   "metadata": {},
   "outputs": [],
   "source": [
    "data2.to_csv(\"CDMX_Final.csv\")"
   ]
  },
  {
   "cell_type": "code",
   "execution_count": 92,
   "metadata": {},
   "outputs": [
    {
     "data": {
      "text/plain": [
       "np.int64(0)"
      ]
     },
     "execution_count": 92,
     "metadata": {},
     "output_type": "execute_result"
    }
   ],
   "source": [
    "valores_nulos= data2.isnull().sum().sum()\n",
    "valores_nulos"
   ]
  }
 ],
 "metadata": {
  "kernelspec": {
   "display_name": "Python 3",
   "language": "python",
   "name": "python3"
  },
  "language_info": {
   "codemirror_mode": {
    "name": "ipython",
    "version": 3
   },
   "file_extension": ".py",
   "mimetype": "text/x-python",
   "name": "python",
   "nbconvert_exporter": "python",
   "pygments_lexer": "ipython3",
   "version": "3.10.10"
  }
 },
 "nbformat": 4,
 "nbformat_minor": 2
}
